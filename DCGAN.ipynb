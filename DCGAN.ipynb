{
 "cells": [
  {
   "cell_type": "code",
   "execution_count": 5,
   "metadata": {},
   "outputs": [
    {
     "name": "stdout",
     "output_type": "stream",
     "text": [
      "D's method\n",
      "B's method\n",
      "simple\n",
      "C's method\n",
      "A's method\n"
     ]
    }
   ],
   "source": [
    "class A:\n",
    "    def method(self):\n",
    "        print(\"A's method\")\n",
    "\n",
    "class B(A):\n",
    "    def method(self):\n",
    "        print(\"B's method\")\n",
    "        print(\"simple\")\n",
    "        super().method()  # Call A's method\n",
    "        \n",
    "class C(A):\n",
    "    def method(self):\n",
    "        print(\"C's method\")\n",
    "        super().method()  # Call A's method\n",
    "\n",
    "class D(B, C):\n",
    "    def method(self):\n",
    "        print(\"D's method\")\n",
    "        super().method()  # Call B's method, then C's method, and finally A's method\n",
    "\n",
    "d = D()\n",
    "d.method()"
   ]
  },
  {
   "cell_type": "markdown",
   "metadata": {},
   "source": []
  },
  {
   "cell_type": "code",
   "execution_count": 9,
   "metadata": {},
   "outputs": [
    {
     "name": "stdout",
     "output_type": "stream",
     "text": [
      "Module's constructor\n",
      "Linear Layer with input 10 and output 5\n",
      "1.0\n",
      "abhina\n"
     ]
    }
   ],
   "source": [
    "class Module:\n",
    "    def __init__(self,name):\n",
    "        print(\"Module's constructor\")\n",
    "        self.name = name\n",
    "\n",
    "class ExampleModule(Module):\n",
    "    def __init__(self, input_dims, output_dims):\n",
    "        super(ExampleModule, self).__init__(\"abhina\")  # Call Module's constructor\n",
    "        self.linear = f\"Linear Layer with input {input_dims} and output {output_dims}\"\n",
    "        self.exponent = 1.0\n",
    "\n",
    "example = ExampleModule(10, 5)\n",
    "print(example.linear)\n",
    "print(example.exponent)\n",
    "print(example.name)"
   ]
  },
  {
   "cell_type": "code",
   "execution_count": null,
   "metadata": {},
   "outputs": [],
   "source": []
  }
 ],
 "metadata": {
  "kernelspec": {
   "display_name": "Python 3",
   "language": "python",
   "name": "python3"
  },
  "language_info": {
   "codemirror_mode": {
    "name": "ipython",
    "version": 3
   },
   "file_extension": ".py",
   "mimetype": "text/x-python",
   "name": "python",
   "nbconvert_exporter": "python",
   "pygments_lexer": "ipython3",
   "version": "3.11.5"
  }
 },
 "nbformat": 4,
 "nbformat_minor": 2
}
